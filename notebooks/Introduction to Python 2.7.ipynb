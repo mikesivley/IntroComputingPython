{
 "metadata": {
  "name": "",
  "signature": "sha256:5521022a6543305c8cd9888ea284e3af78215ed6d922167ea561efa3be28a149"
 },
 "nbformat": 3,
 "nbformat_minor": 0,
 "worksheets": [
  {
   "cells": [
    {
     "cell_type": "markdown",
     "metadata": {},
     "source": [
      "##Introduction to Python 2.7\n",
      "\n",
      "###Primitive Data Types"
     ]
    },
    {
     "cell_type": "code",
     "collapsed": false,
     "input": [
      "# Integer, Int\n",
      "print 7\n",
      "print -7"
     ],
     "language": "python",
     "metadata": {},
     "outputs": []
    },
    {
     "cell_type": "code",
     "collapsed": false,
     "input": [
      "# Float, Single, Double, Real, Floating Point, etc\n",
      "print 7.\n",
      "print 7.0\n",
      "print 7.5\n",
      "print -7.5"
     ],
     "language": "python",
     "metadata": {},
     "outputs": []
    },
    {
     "cell_type": "code",
     "collapsed": false,
     "input": [
      "# Boolean\n",
      "print True\n",
      "print False"
     ],
     "language": "python",
     "metadata": {},
     "outputs": []
    },
    {
     "cell_type": "code",
     "collapsed": false,
     "input": [
      "# Strings\n",
      "\n",
      "print \"Hello world!\"        # you can use double quotes\n",
      "print 'Hello world!'        # or single quotes\n",
      "print \"\"\"Hello world!\"\"\"    # or triple-double quotes\n",
      "print '''Hello world!'''    # or triple-single quotes\n",
      "\n",
      "# If you need to include a quote in your string...\n",
      "print \"\"\"\"Hello \"world!\"\"\"\n",
      "# ...define the string with a different type of quote\n",
      "\n",
      "# But some combinations will confuse the parser...\n",
      "print \"\"\"\"Hello! This is Mike's world!\\\"\"\"\"\n",
      "# ...so you can always \"escape\" with a backslash (\\)"
     ],
     "language": "python",
     "metadata": {},
     "outputs": []
    },
    {
     "cell_type": "code",
     "collapsed": false,
     "input": [
      "# String formatting\n",
      "# Substitute placeholders in your string with a value\n",
      "print \"Hello %s\"%\"World!\"                                        # string\n",
      "print \"This is my %dth time greeting the world.\"%99              # integer\n",
      "print \"It gets %f times better each time I do!\"%4.58273          # float\n",
      "print \"But it only matters that its %.2f times better.\"%4.58273  # float with truncation\n",
      "print \"Thats significant with a p-value of %g!\"%0.000000000825   # float in scientific notation"
     ],
     "language": "python",
     "metadata": {},
     "outputs": []
    },
    {
     "cell_type": "code",
     "collapsed": false,
     "input": [
      "# Strings are a sequence of \"characters\"\n",
      "# Each character has an associated numeric value\n",
      "# This is called \"character encoding\"\n",
      "# This is the ASCII character encoding table\n",
      "from IPython.display import Image\n",
      "Image(filename='../images/ascii.jpg')\n",
      "# UTF-8 is the most common, and is backwards compatible with ASCII"
     ],
     "language": "python",
     "metadata": {},
     "outputs": []
    },
    {
     "cell_type": "markdown",
     "metadata": {},
     "source": [
      "###Operators"
     ]
    },
    {
     "cell_type": "code",
     "collapsed": false,
     "input": [
      "# Mathematical operators\n",
      "print 'add',7 + 7\n",
      "print 'sub',7 - 7\n",
      "print 'mul',7 * 7\n",
      "print 'div',7 / 7\n",
      "print 'pow',pow(7,7)\n",
      "print 'abs',abs(-7)"
     ],
     "language": "python",
     "metadata": {},
     "outputs": []
    },
    {
     "cell_type": "code",
     "collapsed": false,
     "input": [
      "# Assignment operator\n",
      "a = 7\n",
      "b = 8\n",
      "print 'a  ',a\n",
      "print 'b  ',b\n",
      "c = a + b\n",
      "print 'c  ',c\n",
      "\n",
      "# Note: Primitive assignment (remember, we'll contrast this with reference types later)\n",
      "a = b\n",
      "print 'a=b',a\n",
      "print 'b  ',b\n",
      "b = 1\n",
      "print 'a  ',a\n",
      "print 'b=1',b\n",
      "# Changes to B do not affect the value of A after assignment"
     ],
     "language": "python",
     "metadata": {},
     "outputs": []
    },
    {
     "cell_type": "code",
     "collapsed": false,
     "input": [
      "# Modified assignemnt operators\n",
      "a  = 5\n",
      "print 'a  = 5 =>',a\n",
      "a += 3\n",
      "print 'a += 3 =>',a\n",
      "a -= 5\n",
      "print 'a -= 5 =>',a\n",
      "a *= 3\n",
      "print 'a *= 3 =>',a\n",
      "a /= 5\n",
      "print 'a /= 5 =>',a\n",
      "# Note: 9 / 5 just gave me 1!"
     ],
     "language": "python",
     "metadata": {},
     "outputs": []
    },
    {
     "cell_type": "code",
     "collapsed": false,
     "input": [
      "# Integer division, modulo, and casting\n",
      "# If all arguments to the division operator are integers, it will perform integer division\n",
      "print '9  / 5 =>',9 / 5\n",
      "# Modulo gives me the remainder\n",
      "print '9  % 5 =>',9 % 5\n",
      "# If I want to get a floating point result, at least one argument needs to be floating point\n",
      "print '9. % 5 =>',9. / 5\n",
      "# And if these are stored in variables, I need to explicitly cast one to floating point\n",
      "a,b = 9,5\n",
      "print 'a / float(b) =>',a/float(b)"
     ],
     "language": "python",
     "metadata": {},
     "outputs": []
    },
    {
     "cell_type": "code",
     "collapsed": false,
     "input": [
      "# Conditional/Boolean operators\n",
      "# These return a \"boolean\" result (True/False)\n",
      "print 7 == 7\n",
      "print 7 != 7\n",
      "print 7  < 7\n",
      "print 7  > 7\n",
      "print 7 <= 7\n",
      "print 7 >= 7"
     ],
     "language": "python",
     "metadata": {},
     "outputs": []
    },
    {
     "cell_type": "code",
     "collapsed": false,
     "input": [
      "# Explicit conversion to/from integer\n",
      "print int(True)\n",
      "print int(False)\n",
      "print bool(0)\n",
      "print bool(1)"
     ],
     "language": "python",
     "metadata": {},
     "outputs": []
    },
    {
     "cell_type": "code",
     "collapsed": false,
     "input": [
      "# Implicit conversion to/from integer\n",
      "print 7 + (7==7)\n",
      "\n",
      "#      i=0     i=1\n",
      "a = ['False','True']\n",
      "print a[7==7]\n",
      "print a[7!=7]"
     ],
     "language": "python",
     "metadata": {},
     "outputs": []
    },
    {
     "cell_type": "code",
     "collapsed": false,
     "input": [
      "# Boolean negation\n",
      "print not 7 == 7\n",
      "print not 7 != 7"
     ],
     "language": "python",
     "metadata": {},
     "outputs": []
    },
    {
     "cell_type": "code",
     "collapsed": false,
     "input": [
      "# Conditional operators and floating point values\n",
      "# Binary is not the best way to store floating point values\n",
      "# Occassionally, a floating point value will *slightly* lose precision\n",
      "# This can cause two values that *should be equivalent* to evaluate to False\n",
      "# To avoid this, compare floating point numbers with tolerance\n",
      "a = 0.283474739\n",
      "b = 0.283474739\n",
      "print abs(a-b) < 0.0001\n",
      "# We will discuss this more on the board"
     ],
     "language": "python",
     "metadata": {},
     "outputs": []
    },
    {
     "cell_type": "markdown",
     "metadata": {},
     "source": [
      "###Reference Data Types"
     ]
    },
    {
     "cell_type": "code",
     "collapsed": false,
     "input": [
      "# Lists, Arrays\n",
      "print [0,1,2,3,4,5,6,7,8,9]\n",
      "print range(0,10,1)\n",
      "print range(10)\n",
      "print [a for a in xrange(10)]\n",
      "# Note: python (and most programming languages) count from 0\n",
      "# Note: python does not have arrays by default, we will discuss the difference on the board"
     ],
     "language": "python",
     "metadata": {},
     "outputs": []
    },
    {
     "cell_type": "code",
     "collapsed": false,
     "input": [
      "# Tuples (special cases, we'll discuss their usefulness later)\n",
      "print (0,1,2,3,4,5,6,7,8,9)\n",
      "print tuple(range(10))"
     ],
     "language": "python",
     "metadata": {},
     "outputs": []
    },
    {
     "cell_type": "code",
     "collapsed": false,
     "input": [
      "# So why are these called reference types?\n",
      "a = range(10)\n",
      "b = a\n",
      "print 'a',a\n",
      "print 'b',b\n",
      "a[5] = \"VALUE CHANGED IN A\"\n",
      "print 'a',a\n",
      "print 'b',b # the value has also been changed in B\n",
      "# I will explain *why* on the board, but this is known as a \"shallow copy\""
     ],
     "language": "python",
     "metadata": {},
     "outputs": []
    },
    {
     "cell_type": "code",
     "collapsed": false,
     "input": [
      "# Lists of Lists!\n",
      "a = [[1,2],[3,4,5],[6,7,8,9]]\n",
      "print 'a',a\n",
      "\n",
      "# b is a list that contains a list, that contains more lists!\n",
      "b = [a,10]\n",
      "print 'b',b"
     ],
     "language": "python",
     "metadata": {},
     "outputs": []
    },
    {
     "cell_type": "markdown",
     "metadata": {},
     "source": [
      "### Condition Statements"
     ]
    },
    {
     "cell_type": "code",
     "collapsed": false,
     "input": [
      "# If..then..elif...else\n",
      "if 7 == 8:\n",
      "    print \"Impossible\"\n",
      "elif 7 < 7:\n",
      "    print \"Still absurd!\"\n",
      "else:\n",
      "    print \"All of that was nonsense!\""
     ],
     "language": "python",
     "metadata": {},
     "outputs": []
    },
    {
     "cell_type": "markdown",
     "metadata": {},
     "source": [
      "### Loops"
     ]
    },
    {
     "cell_type": "code",
     "collapsed": false,
     "input": [
      "# Loops\n",
      "a = 7\n",
      "for i in xrange(10):\n",
      "    if i == a:\n",
      "        print \"i is 7!\"\n",
      "    elif i < 7:\n",
      "        print \"i is less than 7!\"\n",
      "    else:\n",
      "        print \"i *must be* greater than 7\" # because it failed the other tests"
     ],
     "language": "python",
     "metadata": {},
     "outputs": []
    },
    {
     "cell_type": "markdown",
     "metadata": {},
     "source": [
      "### List Comprehensions (python-specific)"
     ]
    },
    {
     "cell_type": "code",
     "collapsed": false,
     "input": [
      "# Constructing lists with loops (the WRONG way)\n",
      "a = []\n",
      "for i in xrange(10):\n",
      "    a.append(i)\n",
      "print a"
     ],
     "language": "python",
     "metadata": {},
     "outputs": []
    },
    {
     "cell_type": "code",
     "collapsed": false,
     "input": [
      "# Constructing lists with list comprehensions (the RIGHT way)\n",
      "# I'll explain *why* its the right way on the board\n",
      "a = [i for i in xrange(10)]\n",
      "print a\n",
      "\n",
      "# We can also use list comprehensions to subset an existing list\n",
      "b = [i for i in a if i <=7]\n",
      "print b"
     ],
     "language": "python",
     "metadata": {},
     "outputs": []
    },
    {
     "cell_type": "markdown",
     "metadata": {},
     "source": [
      "### Methods / Functions"
     ]
    },
    {
     "cell_type": "code",
     "collapsed": false,
     "input": [
      "# method, function, routine, subroutine, etc are essentially synonymous in python\n",
      "#   name         parameter list\n",
      "def foo(param1,param2=\"bar\",param3=None):\n",
      "    print param1\n",
      "    print param2\n",
      "    if param3:\n",
      "        print param3\n",
      "\n",
      "foo('a') # 'a' is your *argument* to the parameter *param1*\n",
      "print '--'\n",
      "foo('a','b') # I can overwrite the default for param2 by passing a second *positional* argument\n",
      "print '--'\n",
      "foo('a',param3='c') # I can also skip param2 by passing a *keyword* argument to param3"
     ],
     "language": "python",
     "metadata": {},
     "outputs": []
    },
    {
     "cell_type": "code",
     "collapsed": false,
     "input": [
      "# That method is pretty useless though, typically methods *return* values\n",
      "def f(x):\n",
      "    return x + pow(x,2)\n",
      "print f(1)\n",
      "print f(2)"
     ],
     "language": "python",
     "metadata": {},
     "outputs": []
    },
    {
     "cell_type": "code",
     "collapsed": false,
     "input": [
      "# I can use my methods anywhere, for example: list comprehension\n",
      "a = [f(i) for i in xrange(10)]\n",
      "print a"
     ],
     "language": "python",
     "metadata": {},
     "outputs": []
    },
    {
     "cell_type": "code",
     "collapsed": false,
     "input": [
      "# Note: You can treat a method-call as you would the value it returns\n",
      "print type(6)\n",
      "print type(f(2))\n",
      "# Not to confuse just the method itself, however:\n",
      "print type(f)"
     ],
     "language": "python",
     "metadata": {},
     "outputs": []
    },
    {
     "cell_type": "markdown",
     "metadata": {},
     "source": [
      "### Generators"
     ]
    },
    {
     "cell_type": "code",
     "collapsed": false,
     "input": [
      "# Generators return a sequence of values, but not a list\n",
      "# The `range` method returns a list\n",
      "print range(10)\n",
      "# The `xrange` method returns a generator\n",
      "print xrange(10)"
     ],
     "language": "python",
     "metadata": {},
     "outputs": []
    },
    {
     "cell_type": "code",
     "collapsed": false,
     "input": [
      "# Generators are memory-efficient, because they don't compute everything at once\n",
      "# Values are retrieved from a generator by iteration\n",
      "for i in xrange(10):\n",
      "    print i,\n",
      "print ''\n",
      "# ...or you can build a list\n",
      "print [i for i in xrange(10)]\n",
      "# ...or you can let the list method iterate for you\n",
      "print list(xrange(10))"
     ],
     "language": "python",
     "metadata": {},
     "outputs": []
    },
    {
     "cell_type": "code",
     "collapsed": false,
     "input": [
      "# Open a single-column file and read its contents into a list\n",
      "# Note that the object returned by open() is being assigned to `fin`\n",
      "# The `with` command creates a new scope, and when variables leave scope, they're destroyed\n",
      "# For open file objects, part of their default destruction is calling fin.close()\n",
      "# This syntax is a good way to never forget to close a file\n",
      "with open('../data/sample.txt','rb') as fin: # <- fin is a generator that iterates over the file\n",
      "    x = [line.strip() for line in fin]\n",
      "print x"
     ],
     "language": "python",
     "metadata": {},
     "outputs": []
    },
    {
     "cell_type": "code",
     "collapsed": false,
     "input": [
      "# Open a multi-column, tab-delimited file nad read its contents into a 2D list (list of lists)\n",
      "# We can do it manually...\n",
      "with open('../data/sample2.txt','rb') as fin:\n",
      "    x = [line.strip().split('\\t') for line in fin]\n",
      "print x"
     ],
     "language": "python",
     "metadata": {},
     "outputs": []
    },
    {
     "cell_type": "code",
     "collapsed": false,
     "input": [
      "# ...or we can import libraries to help us out\n",
      "import csv\n",
      "with open('../data/sample2.txt','rb') as fin:\n",
      "    reader = csv.reader(fin,delimiter='\\t')\n",
      "    x = [row for row in reader]\n",
      "print x"
     ],
     "language": "python",
     "metadata": {},
     "outputs": []
    },
    {
     "cell_type": "code",
     "collapsed": false,
     "input": [
      "# First, lets separate our header row from the rest\n",
      "with open('../data/sample2.txt','rb') as fin:\n",
      "    h = fin.readline().strip().split('\\t') # fin is a generator, so we can manually request the first iteration\n",
      "    reader = csv.reader(fin,delimiter='\\t') # and then let reader call the rest\n",
      "    x = [row for row in reader]\n",
      "print h\n",
      "print x"
     ],
     "language": "python",
     "metadata": {},
     "outputs": []
    },
    {
     "cell_type": "code",
     "collapsed": false,
     "input": [
      "# But our values are being stored as strings, not integers\n",
      "# No worries, we can fix that\n",
      "with open('../data/sample2.txt','rb') as fin:\n",
      "    h = fin.readline().strip().split('\\t')\n",
      "    reader = csv.reader(fin,delimiter='\\t')\n",
      "    x = [[int(r) for r in row] for row in reader]\n",
      "print h\n",
      "print x"
     ],
     "language": "python",
     "metadata": {},
     "outputs": []
    },
    {
     "cell_type": "code",
     "collapsed": false,
     "input": [
      "# We can also transpose 2D lists with a little magic\n",
      "print zip(*x)"
     ],
     "language": "python",
     "metadata": {},
     "outputs": []
    },
    {
     "cell_type": "code",
     "collapsed": false,
     "input": [
      "# But now our internal lists aren't lists, they're tuples\n",
      "# No worries, we can avoid that with a simple list comprehension\n",
      "print [list(i) for i in zip(*x)]"
     ],
     "language": "python",
     "metadata": {},
     "outputs": []
    },
    {
     "cell_type": "markdown",
     "metadata": {},
     "source": [
      "# Ask questions now!"
     ]
    },
    {
     "cell_type": "markdown",
     "metadata": {},
     "source": [
      "### Why does calling fin.readline() change what the csv.reader sees?\n",
      "When we call open(fname,'rb') we are creating a generator. csv.reader takes a generator as input, and is itself a generator. It iterates over each line, does some processing for us, and then passes that line along to us as a processed \"row\" of data. When we call fin.readline() we're manually iterating once, which corresponds to the first row (the header). When we pass fin to csv.reader, the iteration is not reset. When csv.reader now calls fin.readline() (internally), it will get the 2nd row.\n",
      "\n",
      "### References seem unnecessarily confusing and CS-ey. Do I really need to know this?\n",
      "At first glance, understanding references looks like the type of things you never wanted to learn from that one CS class someone made you take one time. They are incredibly powerful tools, however. Not only does much of the data you work with in python get saved via reference, but reference types have a major impact on data passed to method calls. You can also exploit references in your own code to save space and create more intricate object interactions.\n",
      "\n",
      "### Generators are confusing!\n",
      "Yes. Yes they are. They are also very helpful, and easy to write your own! Do you have two different file types you'd like to accept as input? Write two generators that each read different file types, but modify the data into a single format. Now you can use a single set of methods to process the data, because your generators are doing all the file parsing.\n",
      "\n",
      "### What was that zip magic?\n",
      "Also confusing. \\* is an operator that means \"unlist\". zip is a method that \"zips together\" two lists. On their own, they're confusing to work with, but just remember that if you have a 2D list, zip(\\*x) will transpose that list.\n",
      "\n",
      "### Where do I find all of the options for string formatting / list comprehensions / methods etc?\n",
      "Check the documentation. If you don't understand the documentation, ask us!\n",
      "\n",
      "### What if I know what I want, but I don't know how to code it?\n",
      "Google what you want! Python has a huge user base and StackOverflow has excellent answers to the vast majority of beginner (and advanced) questions. Don't be too specific, think about what you want to accomplish in general terms. Use vocabulary from this notebook. If you can't find your answer there, ask us!\n",
      "\n",
      "### [Topic of interest] sounds really cool and I want to know more about it. \n",
      "Awesome. I don't know ahead of time what you'll find interesting, so tell me what you'd like to hear more about."
     ]
    },
    {
     "cell_type": "code",
     "collapsed": false,
     "input": [],
     "language": "python",
     "metadata": {},
     "outputs": []
    }
   ],
   "metadata": {}
  }
 ]
}